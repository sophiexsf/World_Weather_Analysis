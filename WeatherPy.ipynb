{
 "cells": [
  {
   "cell_type": "code",
   "execution_count": 1,
   "id": "7077f784",
   "metadata": {},
   "outputs": [],
   "source": [
    "from citipy import citipy\n"
   ]
  },
  {
   "cell_type": "code",
   "execution_count": 2,
   "id": "f83bb3ce",
   "metadata": {},
   "outputs": [],
   "source": [
    "# Import the dependencies.\n",
    "import pandas as pd\n",
    "import matplotlib.pyplot as plt\n",
    "import numpy as np"
   ]
  },
  {
   "cell_type": "code",
   "execution_count": 3,
   "id": "edb2c305",
   "metadata": {},
   "outputs": [
    {
     "data": {
      "text/plain": [
       "<zip at 0x1c642dbb108>"
      ]
     },
     "execution_count": 3,
     "metadata": {},
     "output_type": "execute_result"
    }
   ],
   "source": [
    "# Create a set of random latitude and longitude combinations.\n",
    "lats = np.random.uniform(low=-90.000, high=90.000, size=1500)\n",
    "lngs = np.random.uniform(low=-180.000, high=180.000, size=1500)\n",
    "lat_lngs = zip(lats, lngs)\n",
    "lat_lngs"
   ]
  },
  {
   "cell_type": "code",
   "execution_count": 4,
   "id": "0f7109bd",
   "metadata": {},
   "outputs": [],
   "source": [
    "# Add the latitudes and longitudes to a list.\n",
    "coordinates = list(lat_lngs)"
   ]
  },
  {
   "cell_type": "code",
   "execution_count": 5,
   "id": "33520724",
   "metadata": {},
   "outputs": [
    {
     "data": {
      "text/plain": [
       "615"
      ]
     },
     "execution_count": 5,
     "metadata": {},
     "output_type": "execute_result"
    }
   ],
   "source": [
    "# Create a list for holding the cities.\n",
    "cities = []\n",
    "# Identify the nearest city for each latitude and longitude combination.\n",
    "for coordinate in coordinates:\n",
    "    city = citipy.nearest_city(coordinate[0], coordinate[1]).city_name\n",
    "\n",
    "    # If the city is unique, then we will add it to the cities list.\n",
    "    if city not in cities:\n",
    "        cities.append(city)\n",
    "# Print the city count to confirm sufficient count.\n",
    "len(cities)"
   ]
  },
  {
   "cell_type": "code",
   "execution_count": 10,
   "id": "63df50c2",
   "metadata": {},
   "outputs": [],
   "source": [
    "# Import the requests library.\n",
    "import requests\n",
    "\n",
    "# Import the API key.\n",
    "from config import weather_api_key"
   ]
  },
  {
   "cell_type": "code",
   "execution_count": 11,
   "id": "8676e9e8",
   "metadata": {},
   "outputs": [],
   "source": [
    "# Import the time library and the datetime module from the datetime library \n",
    "import time\n",
    "from datetime import datetime"
   ]
  },
  {
   "cell_type": "code",
   "execution_count": 12,
   "id": "2495e2cc",
   "metadata": {},
   "outputs": [],
   "source": [
    "# Starting URL for Weather Map API Call.\n",
    "url = \"http://api.openweathermap.org/data/2.5/weather?appid=\" + weather_api_key"
   ]
  },
  {
   "cell_type": "code",
   "execution_count": 13,
   "id": "d0db995a",
   "metadata": {},
   "outputs": [
    {
     "name": "stdout",
     "output_type": "stream",
     "text": [
      "Beginning Data Retrieval     \n",
      "-----------------------------\n"
     ]
    }
   ],
   "source": [
    "# Create an empty list to hold the weather data.\n",
    "city_data = []\n",
    "# Print the beginning of the logging.\n",
    "print(\"Beginning Data Retrieval     \")\n",
    "print(\"-----------------------------\")\n",
    "\n",
    "# Create counters.dyuiko,iuy\n",
    "record_count = 1\n",
    "set_count = 1"
   ]
  },
  {
   "cell_type": "code",
   "execution_count": 14,
   "id": "1fc41b97",
   "metadata": {},
   "outputs": [],
   "source": [
    "# Loop through all the cities in our list.\n",
    "for i in range(len(cities)):\n",
    "\n",
    "    # Group cities in sets of 50 for logging purposes.\n",
    "    if (i % 50 == 0 and i >= 50):\n",
    "        set_count += 1\n",
    "        record_count = 1\n",
    "        time.sleep(60)\n",
    "\n",
    "    # Create endpoint URL with each city.\n",
    "    city_url = url + \"&q=\" + cities[i]"
   ]
  },
  {
   "cell_type": "code",
   "execution_count": null,
   "id": "c0c4da35",
   "metadata": {},
   "outputs": [
    {
     "name": "stdout",
     "output_type": "stream",
     "text": [
      "Processing Record 16 of Set 25 | taolanaro\n",
      "City not found. Skipping...\n",
      "Processing Record 17 of Set 25 | poli\n",
      "Processing Record 18 of Set 25 | peachtree city\n",
      "Processing Record 19 of Set 25 | alice springs\n",
      "Processing Record 20 of Set 25 | lebu\n",
      "Processing Record 21 of Set 25 | norman wells\n",
      "Processing Record 22 of Set 25 | klaksvik\n",
      "Processing Record 23 of Set 25 | rikitea\n",
      "Processing Record 24 of Set 25 | dikson\n",
      "Processing Record 25 of Set 25 | codrington\n",
      "Processing Record 26 of Set 25 | hit\n",
      "Processing Record 27 of Set 25 | lazurne\n",
      "Processing Record 28 of Set 25 | dali\n",
      "Processing Record 29 of Set 25 | east london\n",
      "Processing Record 30 of Set 25 | esperance\n",
      "Processing Record 31 of Set 25 | bom jesus\n",
      "Processing Record 32 of Set 25 | cherskiy\n",
      "Processing Record 33 of Set 25 | ponta do sol\n",
      "Processing Record 34 of Set 25 | kapaa\n",
      "Processing Record 35 of Set 25 | kaitangata\n",
      "Processing Record 36 of Set 25 | marzuq\n",
      "Processing Record 37 of Set 25 | ushuaia\n",
      "Processing Record 38 of Set 25 | vaini\n",
      "Processing Record 39 of Set 25 | faanui\n",
      "Processing Record 40 of Set 25 | nizhneyansk\n",
      "City not found. Skipping...\n",
      "Processing Record 41 of Set 25 | jamestown\n",
      "Processing Record 42 of Set 25 | topchikha\n",
      "Processing Record 43 of Set 25 | hilo\n",
      "Processing Record 44 of Set 25 | port blair\n",
      "Processing Record 45 of Set 25 | karamea\n",
      "City not found. Skipping...\n",
      "Processing Record 46 of Set 25 | coihaique\n",
      "Processing Record 47 of Set 25 | bubaque\n",
      "Processing Record 48 of Set 25 | arraial do cabo\n",
      "Processing Record 49 of Set 25 | atuona\n",
      "Processing Record 50 of Set 25 | nikolskoye\n",
      "Processing Record 51 of Set 25 | bosaso\n",
      "Processing Record 52 of Set 25 | punta arenas\n",
      "Processing Record 53 of Set 25 | tumannyy\n",
      "City not found. Skipping...\n",
      "Processing Record 54 of Set 25 | qeshm\n",
      "Processing Record 55 of Set 25 | avarua\n",
      "Processing Record 56 of Set 25 | albany\n",
      "Processing Record 57 of Set 25 | cabo san lucas\n",
      "Processing Record 58 of Set 25 | casimiro de abreu\n",
      "Processing Record 59 of Set 25 | hobart\n",
      "Processing Record 60 of Set 25 | port hardy\n",
      "Processing Record 61 of Set 25 | boyuibe\n",
      "Processing Record 62 of Set 25 | berlevag\n",
      "Processing Record 63 of Set 25 | hithadhoo\n",
      "Processing Record 64 of Set 25 | saint-raphael\n",
      "Processing Record 65 of Set 25 | plettenberg bay\n",
      "Processing Record 1 of Set 26 | itarema\n",
      "Processing Record 2 of Set 26 | hermanus\n",
      "Processing Record 3 of Set 26 | touros\n",
      "Processing Record 4 of Set 26 | tuktoyaktuk\n",
      "Processing Record 5 of Set 26 | port lincoln\n",
      "Processing Record 6 of Set 26 | tiksi\n",
      "Processing Record 7 of Set 26 | rondonopolis\n",
      "Processing Record 8 of Set 26 | khatanga\n",
      "Processing Record 9 of Set 26 | chuy\n",
      "Processing Record 10 of Set 26 | bredasdorp\n",
      "Processing Record 11 of Set 26 | beringovskiy\n",
      "Processing Record 12 of Set 26 | qaanaaq\n",
      "Processing Record 13 of Set 26 | kasongo-lunda\n",
      "Processing Record 14 of Set 26 | porbandar\n",
      "Processing Record 15 of Set 26 | hazorasp\n",
      "Processing Record 16 of Set 26 | kokopo\n",
      "Processing Record 17 of Set 26 | chokurdakh\n",
      "Processing Record 18 of Set 26 | georgetown\n",
      "Processing Record 19 of Set 26 | pevek\n",
      "Processing Record 20 of Set 26 | sakhnovshchyna\n",
      "Processing Record 21 of Set 26 | las vegas\n",
      "Processing Record 22 of Set 26 | port alfred\n",
      "Processing Record 23 of Set 26 | viedma\n",
      "Processing Record 24 of Set 26 | cape town\n",
      "Processing Record 25 of Set 26 | butaritari\n",
      "Processing Record 26 of Set 26 | homer\n",
      "Processing Record 27 of Set 26 | san ramon de la nueva oran\n",
      "Processing Record 28 of Set 26 | dusti\n",
      "Processing Record 29 of Set 26 | saint-philippe\n",
      "Processing Record 30 of Set 26 | seydi\n",
      "Processing Record 31 of Set 26 | ambilobe\n",
      "Processing Record 32 of Set 26 | saskylakh\n",
      "Processing Record 33 of Set 26 | odweyne\n",
      "Processing Record 34 of Set 26 | new norfolk\n",
      "Processing Record 35 of Set 26 | bluff\n",
      "Processing Record 36 of Set 26 | baie-comeau\n",
      "Processing Record 37 of Set 26 | torbay\n",
      "Processing Record 38 of Set 26 | sao joao da barra\n",
      "Processing Record 39 of Set 26 | puerto ayora\n",
      "Processing Record 40 of Set 26 | poum\n",
      "Processing Record 41 of Set 26 | busselton\n",
      "Processing Record 42 of Set 26 | kalabo\n",
      "Processing Record 43 of Set 26 | gizo\n",
      "Processing Record 44 of Set 26 | zhanatas\n",
      "City not found. Skipping...\n",
      "Processing Record 45 of Set 26 | weligama\n",
      "Processing Record 46 of Set 26 | liberty\n",
      "Processing Record 47 of Set 26 | kualakapuas\n",
      "Processing Record 48 of Set 26 | airai\n",
      "Processing Record 49 of Set 26 | schwedt\n",
      "Processing Record 50 of Set 26 | progreso\n",
      "Processing Record 1 of Set 27 | olafsvik\n",
      "Processing Record 2 of Set 27 | znamenskoye\n",
      "Processing Record 3 of Set 27 | kindu\n",
      "Processing Record 4 of Set 27 | calabozo\n",
      "Processing Record 5 of Set 27 | port-gentil\n",
      "Processing Record 6 of Set 27 | mar del plata\n",
      "Processing Record 7 of Set 27 | moose factory\n",
      "Processing Record 8 of Set 27 | illoqqortoormiut\n",
      "City not found. Skipping...\n",
      "Processing Record 9 of Set 27 | phalaborwa\n",
      "Processing Record 10 of Set 27 | clyde river\n",
      "Processing Record 11 of Set 27 | bambous virieux\n",
      "Processing Record 12 of Set 27 | constitucion\n",
      "Processing Record 13 of Set 27 | bera\n",
      "Processing Record 14 of Set 27 | iqaluit\n",
      "Processing Record 15 of Set 27 | kodiak\n",
      "Processing Record 16 of Set 27 | omsukchan\n",
      "Processing Record 17 of Set 27 | natal\n",
      "Processing Record 18 of Set 27 | fairbanks\n",
      "Processing Record 19 of Set 27 | carnarvon\n",
      "Processing Record 20 of Set 27 | mataura\n",
      "Processing Record 21 of Set 27 | longyearbyen\n",
      "Processing Record 22 of Set 27 | mahebourg\n",
      "Processing Record 23 of Set 27 | ilulissat\n",
      "Processing Record 24 of Set 27 | guerrero negro\n",
      "Processing Record 25 of Set 27 | yeniseysk\n",
      "Processing Record 26 of Set 27 | shimoda\n",
      "Processing Record 27 of Set 27 | aklavik\n",
      "Processing Record 28 of Set 27 | cockburn town\n",
      "Processing Record 29 of Set 27 | tall kayf\n",
      "Processing Record 30 of Set 27 | adamas\n",
      "Processing Record 31 of Set 27 | leh\n",
      "Processing Record 32 of Set 27 | kavieng\n",
      "Processing Record 33 of Set 27 | blantyre\n",
      "Processing Record 34 of Set 27 | vestmanna\n",
      "Processing Record 35 of Set 27 | kalulushi\n",
      "Processing Record 36 of Set 27 | ondjiva\n",
      "Processing Record 37 of Set 27 | yoichi\n",
      "Processing Record 38 of Set 27 | narsaq\n",
      "Processing Record 39 of Set 27 | korla\n",
      "Processing Record 40 of Set 27 | olinda\n",
      "Processing Record 41 of Set 27 | te anau\n",
      "Processing Record 42 of Set 27 | grand river south east\n",
      "City not found. Skipping...\n",
      "Processing Record 43 of Set 27 | cayenne\n",
      "Processing Record 44 of Set 27 | birin\n",
      "Processing Record 45 of Set 27 | najran\n",
      "Processing Record 46 of Set 27 | nurota\n",
      "Processing Record 47 of Set 27 | sorland\n",
      "Processing Record 48 of Set 27 | bonavista\n",
      "Processing Record 49 of Set 27 | artyk\n",
      "City not found. Skipping...\n",
      "Processing Record 50 of Set 27 | redcar\n",
      "Processing Record 1 of Set 28 | tolaga bay\n",
      "Processing Record 2 of Set 28 | souillac\n",
      "Processing Record 3 of Set 28 | sisimiut\n",
      "Processing Record 4 of Set 28 | ahipara\n",
      "Processing Record 5 of Set 28 | del rio\n",
      "Processing Record 6 of Set 28 | bengkulu\n",
      "Processing Record 7 of Set 28 | kloulklubed\n",
      "Processing Record 8 of Set 28 | meerhout\n",
      "Processing Record 9 of Set 28 | dahegam\n",
      "Processing Record 10 of Set 28 | nakusp\n",
      "Processing Record 11 of Set 28 | samalaeulu\n",
      "City not found. Skipping...\n",
      "Processing Record 12 of Set 28 | greytown\n",
      "Processing Record 13 of Set 28 | mabaruma\n",
      "Processing Record 14 of Set 28 | yellowknife\n",
      "Processing Record 15 of Set 28 | alappuzha\n",
      "Processing Record 16 of Set 28 | thompson\n",
      "Processing Record 17 of Set 28 | barrow\n",
      "Processing Record 18 of Set 28 | yabrud\n",
      "Processing Record 19 of Set 28 | amudat\n",
      "Processing Record 20 of Set 28 | esso\n",
      "Processing Record 21 of Set 28 | castro\n",
      "Processing Record 22 of Set 28 | hofn\n",
      "Processing Record 23 of Set 28 | santa maria\n",
      "Processing Record 24 of Set 28 | palana\n",
      "Processing Record 25 of Set 28 | wuwei\n",
      "Processing Record 26 of Set 28 | angoche\n",
      "Processing Record 27 of Set 28 | ngunguru\n",
      "Processing Record 28 of Set 28 | san policarpo\n",
      "Processing Record 29 of Set 28 | estelle\n",
      "Processing Record 30 of Set 28 | moron\n",
      "Processing Record 31 of Set 28 | hudiksvall\n",
      "Processing Record 32 of Set 28 | san jeronimo\n",
      "Processing Record 33 of Set 28 | praxedis guerrero\n",
      "Processing Record 34 of Set 28 | joaima\n",
      "Processing Record 35 of Set 28 | namibe\n",
      "Processing Record 36 of Set 28 | koslan\n",
      "Processing Record 37 of Set 28 | faya\n",
      "Processing Record 38 of Set 28 | flin flon\n"
     ]
    },
    {
     "name": "stdout",
     "output_type": "stream",
     "text": [
      "Processing Record 39 of Set 28 | bathsheba\n",
      "Processing Record 40 of Set 28 | mackay\n",
      "Processing Record 41 of Set 28 | keetmanshoop\n",
      "Processing Record 42 of Set 28 | severo-kurilsk\n",
      "Processing Record 43 of Set 28 | amderma\n",
      "City not found. Skipping...\n",
      "Processing Record 44 of Set 28 | palmer\n",
      "Processing Record 45 of Set 28 | bethel\n",
      "Processing Record 46 of Set 28 | nanortalik\n",
      "Processing Record 47 of Set 28 | hirara\n",
      "Processing Record 48 of Set 28 | sironj\n",
      "Processing Record 49 of Set 28 | mount abu\n",
      "Processing Record 50 of Set 28 | victoria\n"
     ]
    }
   ],
   "source": [
    "# Loop through all the cities in the list.\n",
    "for i, city in enumerate(cities):\n",
    "\n",
    "    # Group cities in sets of 50 for logging purposes.\n",
    "    if (i % 50 == 0 and i >= 50):\n",
    "        set_count += 1\n",
    "        record_count = 1\n",
    "        time.sleep(60)\n",
    "\n",
    "    # Create endpoint URL with each city.\n",
    "    city_url = url + \"&q=\" + city.replace(\" \",\"+\")\n",
    "\n",
    "    # Log the URL, record, and set numbers and the city.\n",
    "    print(f\"Processing Record {record_count} of Set {set_count} | {city}\")\n",
    "    # Add 1 to the record count.\n",
    "    record_count += 1\n",
    "    # Run an API request for each of the cities.\n",
    "    try:\n",
    "        # Parse the JSON and retrieve data.\n",
    "        city_weather = requests.get(city_url).json()\n",
    "        # Parse out the needed data.\n",
    "        city_lat = city_weather[\"coord\"][\"lat\"]\n",
    "        city_lng = city_weather[\"coord\"][\"lon\"]\n",
    "        city_max_temp = city_weather[\"main\"][\"temp_max\"]\n",
    "        city_humidity = city_weather[\"main\"][\"humidity\"]\n",
    "        city_clouds = city_weather[\"clouds\"][\"all\"]\n",
    "        city_wind = city_weather[\"wind\"][\"speed\"]\n",
    "        city_country = city_weather[\"sys\"][\"country\"]\n",
    "        # Convert the date to ISO standard.\n",
    "        city_date = datetime.utcfromtimestamp(city_weather[\"dt\"]).strftime('%Y-%m-%d %H:%M:%S')\n",
    "        # Append the city information into city_data list.\n",
    "        city_data.append({\"City\": city.title(),\n",
    "                          \"Lat\": city_lat,\n",
    "                          \"Lng\": city_lng,\n",
    "                          \"Max Temp\": city_max_temp,\n",
    "                          \"Humidity\": city_humidity,\n",
    "                          \"Cloudiness\": city_clouds,\n",
    "                          \"Wind Speed\": city_wind,\n",
    "                          \"Country\": city_country,\n",
    "                          \"Date\": city_date})\n",
    "\n",
    "# If an error is experienced, skip the city.\n",
    "    except:\n",
    "        print(\"City not found. Skipping...\")\n",
    "        pass\n",
    "\n",
    "# Indicate that Data Loading is complete.\n",
    "print(\"-----------------------------\")\n",
    "print(\"Data Retrieval Complete      \")\n",
    "print(\"-----------------------------\")"
   ]
  },
  {
   "cell_type": "code",
   "execution_count": null,
   "id": "f3bfa7d3",
   "metadata": {},
   "outputs": [],
   "source": [
    "# Convert the array of dictionaries to a Pandas DataFrame.\n",
    "city_data_df = pd.DataFrame(city_data)\n",
    "city_data_df.head(10)"
   ]
  },
  {
   "cell_type": "code",
   "execution_count": null,
   "id": "6e4a5de0",
   "metadata": {},
   "outputs": [],
   "source": []
  },
  {
   "cell_type": "code",
   "execution_count": null,
   "id": "4badd9d2",
   "metadata": {},
   "outputs": [],
   "source": [
    "city_data"
   ]
  },
  {
   "cell_type": "code",
   "execution_count": null,
   "id": "ce990adc",
   "metadata": {},
   "outputs": [],
   "source": [
    "new_column_order = [\"City\", \"Country\", \"Date\",\"Lat\",\"Lng\",\"Max Temp\",\"Humidity\",\"Cloudiness\",\"Wind Speed\"]\n",
    "city_data_df = city_data_df[new_column_order]"
   ]
  },
  {
   "cell_type": "code",
   "execution_count": null,
   "id": "d5e149df",
   "metadata": {},
   "outputs": [],
   "source": [
    "# Create the output file (CSV).\n",
    "output_data_file = \"weather_data/cities.csv\"\n",
    "# Export the City_Data into a CSV.\n",
    "city_data_df.to_csv(output_data_file, index_label=\"City_ID\")"
   ]
  },
  {
   "cell_type": "code",
   "execution_count": null,
   "id": "b030178b",
   "metadata": {},
   "outputs": [],
   "source": []
  }
 ],
 "metadata": {
  "kernelspec": {
   "display_name": "PythonData",
   "language": "python",
   "name": "pythondata"
  },
  "language_info": {
   "codemirror_mode": {
    "name": "ipython",
    "version": 3
   },
   "file_extension": ".py",
   "mimetype": "text/x-python",
   "name": "python",
   "nbconvert_exporter": "python",
   "pygments_lexer": "ipython3",
   "version": "3.7.11"
  }
 },
 "nbformat": 4,
 "nbformat_minor": 5
}
